{
 "cells": [
  {
   "cell_type": "code",
   "execution_count": 3,
   "id": "818719d3",
   "metadata": {},
   "outputs": [
    {
     "name": "stdout",
     "output_type": "stream",
     "text": [
      "Collecting opencv-python\n",
      "  Downloading opencv_python-4.7.0.72-cp37-abi3-win_amd64.whl (38.2 MB)\n",
      "Requirement already satisfied: numpy>=1.19.3 in c:\\users\\m adil\\anaconda3\\lib\\site-packages (from opencv-python) (1.20.3)\n",
      "Installing collected packages: opencv-python\n",
      "Successfully installed opencv-python-4.7.0.72\n"
     ]
    }
   ],
   "source": [
    "# !pip install opencv-python"
   ]
  },
  {
   "cell_type": "code",
   "execution_count": 88,
   "id": "62893d6b",
   "metadata": {},
   "outputs": [],
   "source": [
    "import cv2\n",
    "import numpy as np\n",
    "# image_rgb = cv2.imread('baboon.png')\n",
    "# image_rgb = cv2.imread('image.png')\n",
    "image_rgb = cv2.imread('image (1).png')\n",
    "\n",
    "lower_black = np.array([0, 100, 100])\n",
    "upper_black = np.array([9,255,255])\n",
    "\n",
    "image_hsv = cv2.cvtColor(image_rgb, cv2.COLOR_BGR2HSV)\n",
    "\n",
    "image_mask = cv2.inRange(image_hsv, lower_black, upper_black)\n",
    "image_rgb[image_mask>0] = [0,0,0]\n",
    "\n",
    "cv2.imshow(\"Image\", image_rgb)\n",
    "cv2.waitKey(0)\n",
    "cv2.destroyAllWindows()"
   ]
  },
  {
   "cell_type": "code",
   "execution_count": 68,
   "id": "c661d602",
   "metadata": {},
   "outputs": [],
   "source": [
    "# im_array"
   ]
  },
  {
   "cell_type": "code",
   "execution_count": null,
   "id": "f42c1815",
   "metadata": {},
   "outputs": [],
   "source": []
  }
 ],
 "metadata": {
  "kernelspec": {
   "display_name": "Python 3 (ipykernel)",
   "language": "python",
   "name": "python3"
  },
  "language_info": {
   "codemirror_mode": {
    "name": "ipython",
    "version": 3
   },
   "file_extension": ".py",
   "mimetype": "text/x-python",
   "name": "python",
   "nbconvert_exporter": "python",
   "pygments_lexer": "ipython3",
   "version": "3.9.7"
  }
 },
 "nbformat": 4,
 "nbformat_minor": 5
}
