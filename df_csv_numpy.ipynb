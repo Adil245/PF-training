{
 "cells": [
  {
   "cell_type": "code",
   "execution_count": 1,
   "id": "79f0d888",
   "metadata": {},
   "outputs": [],
   "source": [
    "import pandas as pd\n",
    "import numpy as np\n",
    "from tensorflow import keras as tf"
   ]
  },
  {
   "cell_type": "code",
   "execution_count": 2,
   "id": "9405fab4",
   "metadata": {},
   "outputs": [],
   "source": [
    "dataset = tf.datasets.mnist.load_data()"
   ]
  },
  {
   "cell_type": "code",
   "execution_count": 43,
   "id": "875bcdc3",
   "metadata": {},
   "outputs": [
    {
     "data": {
      "text/plain": [
       "((array([[[0, 0, 0, ..., 0, 0, 0],\n",
       "          [0, 0, 0, ..., 0, 0, 0],\n",
       "          [0, 0, 0, ..., 0, 0, 0],\n",
       "          ...,\n",
       "          [0, 0, 0, ..., 0, 0, 0],\n",
       "          [0, 0, 0, ..., 0, 0, 0],\n",
       "          [0, 0, 0, ..., 0, 0, 0]],\n",
       "  \n",
       "         [[0, 0, 0, ..., 0, 0, 0],\n",
       "          [0, 0, 0, ..., 0, 0, 0],\n",
       "          [0, 0, 0, ..., 0, 0, 0],\n",
       "          ...,\n",
       "          [0, 0, 0, ..., 0, 0, 0],\n",
       "          [0, 0, 0, ..., 0, 0, 0],\n",
       "          [0, 0, 0, ..., 0, 0, 0]],\n",
       "  \n",
       "         [[0, 0, 0, ..., 0, 0, 0],\n",
       "          [0, 0, 0, ..., 0, 0, 0],\n",
       "          [0, 0, 0, ..., 0, 0, 0],\n",
       "          ...,\n",
       "          [0, 0, 0, ..., 0, 0, 0],\n",
       "          [0, 0, 0, ..., 0, 0, 0],\n",
       "          [0, 0, 0, ..., 0, 0, 0]],\n",
       "  \n",
       "         ...,\n",
       "  \n",
       "         [[0, 0, 0, ..., 0, 0, 0],\n",
       "          [0, 0, 0, ..., 0, 0, 0],\n",
       "          [0, 0, 0, ..., 0, 0, 0],\n",
       "          ...,\n",
       "          [0, 0, 0, ..., 0, 0, 0],\n",
       "          [0, 0, 0, ..., 0, 0, 0],\n",
       "          [0, 0, 0, ..., 0, 0, 0]],\n",
       "  \n",
       "         [[0, 0, 0, ..., 0, 0, 0],\n",
       "          [0, 0, 0, ..., 0, 0, 0],\n",
       "          [0, 0, 0, ..., 0, 0, 0],\n",
       "          ...,\n",
       "          [0, 0, 0, ..., 0, 0, 0],\n",
       "          [0, 0, 0, ..., 0, 0, 0],\n",
       "          [0, 0, 0, ..., 0, 0, 0]],\n",
       "  \n",
       "         [[0, 0, 0, ..., 0, 0, 0],\n",
       "          [0, 0, 0, ..., 0, 0, 0],\n",
       "          [0, 0, 0, ..., 0, 0, 0],\n",
       "          ...,\n",
       "          [0, 0, 0, ..., 0, 0, 0],\n",
       "          [0, 0, 0, ..., 0, 0, 0],\n",
       "          [0, 0, 0, ..., 0, 0, 0]]], dtype=uint8),\n",
       "  array([5, 0, 4, ..., 5, 6, 8], dtype=uint8)),\n",
       " (array([[[0, 0, 0, ..., 0, 0, 0],\n",
       "          [0, 0, 0, ..., 0, 0, 0],\n",
       "          [0, 0, 0, ..., 0, 0, 0],\n",
       "          ...,\n",
       "          [0, 0, 0, ..., 0, 0, 0],\n",
       "          [0, 0, 0, ..., 0, 0, 0],\n",
       "          [0, 0, 0, ..., 0, 0, 0]],\n",
       "  \n",
       "         [[0, 0, 0, ..., 0, 0, 0],\n",
       "          [0, 0, 0, ..., 0, 0, 0],\n",
       "          [0, 0, 0, ..., 0, 0, 0],\n",
       "          ...,\n",
       "          [0, 0, 0, ..., 0, 0, 0],\n",
       "          [0, 0, 0, ..., 0, 0, 0],\n",
       "          [0, 0, 0, ..., 0, 0, 0]],\n",
       "  \n",
       "         [[0, 0, 0, ..., 0, 0, 0],\n",
       "          [0, 0, 0, ..., 0, 0, 0],\n",
       "          [0, 0, 0, ..., 0, 0, 0],\n",
       "          ...,\n",
       "          [0, 0, 0, ..., 0, 0, 0],\n",
       "          [0, 0, 0, ..., 0, 0, 0],\n",
       "          [0, 0, 0, ..., 0, 0, 0]],\n",
       "  \n",
       "         ...,\n",
       "  \n",
       "         [[0, 0, 0, ..., 0, 0, 0],\n",
       "          [0, 0, 0, ..., 0, 0, 0],\n",
       "          [0, 0, 0, ..., 0, 0, 0],\n",
       "          ...,\n",
       "          [0, 0, 0, ..., 0, 0, 0],\n",
       "          [0, 0, 0, ..., 0, 0, 0],\n",
       "          [0, 0, 0, ..., 0, 0, 0]],\n",
       "  \n",
       "         [[0, 0, 0, ..., 0, 0, 0],\n",
       "          [0, 0, 0, ..., 0, 0, 0],\n",
       "          [0, 0, 0, ..., 0, 0, 0],\n",
       "          ...,\n",
       "          [0, 0, 0, ..., 0, 0, 0],\n",
       "          [0, 0, 0, ..., 0, 0, 0],\n",
       "          [0, 0, 0, ..., 0, 0, 0]],\n",
       "  \n",
       "         [[0, 0, 0, ..., 0, 0, 0],\n",
       "          [0, 0, 0, ..., 0, 0, 0],\n",
       "          [0, 0, 0, ..., 0, 0, 0],\n",
       "          ...,\n",
       "          [0, 0, 0, ..., 0, 0, 0],\n",
       "          [0, 0, 0, ..., 0, 0, 0],\n",
       "          [0, 0, 0, ..., 0, 0, 0]]], dtype=uint8),\n",
       "  array([7, 2, 1, ..., 4, 5, 6], dtype=uint8)))"
      ]
     },
     "execution_count": 43,
     "metadata": {},
     "output_type": "execute_result"
    }
   ],
   "source": [
    "dataset"
   ]
  },
  {
   "cell_type": "code",
   "execution_count": 3,
   "id": "66c0655b",
   "metadata": {},
   "outputs": [],
   "source": [
    "train_df = pd.DataFrame(list(zip(dataset[0][0], dataset[0][1])), columns =['image', 'label'])\n",
    "\n",
    "test_df = pd.DataFrame(list(zip(dataset[1][0], dataset[1][1])), columns =['image', 'label'])\n"
   ]
  },
  {
   "cell_type": "code",
   "execution_count": 47,
   "id": "749aae94",
   "metadata": {},
   "outputs": [
    {
     "data": {
      "text/plain": [
       "<matplotlib.image.AxesImage at 0x219a9c37ca0>"
      ]
     },
     "execution_count": 47,
     "metadata": {},
     "output_type": "execute_result"
    },
    {
     "data": {
      "image/png": "[encoded data removed]",
      "text/plain": [
       "<Figure size 432x288 with 1 Axes>"
      ]
     },
     "metadata": {
      "needs_background": "light"
     },
     "output_type": "display_data"
    }
   ],
   "source": [
    "plt.imshow(train_df['image'][0])"
   ]
  },
  {
   "cell_type": "code",
   "execution_count": 4,
   "id": "d909c6d1",
   "metadata": {},
   "outputs": [
    {
     "data": {
      "text/html": [
       "<div>\n",
       "<style scoped>\n",
       "    .dataframe tbody tr th:only-of-type {\n",
       "        vertical-align: middle;\n",
       "    }\n",
       "\n",
       "    .dataframe tbody tr th {\n",
       "        vertical-align: top;\n",
       "    }\n",
       "\n",
       "    .dataframe thead th {\n",
       "        text-align: right;\n",
       "    }\n",
       "</style>\n",
       "<table border=\"1\" class=\"dataframe\">\n",
       "  <thead>\n",
       "    <tr style=\"text-align: right;\">\n",
       "      <th></th>\n",
       "      <th>image</th>\n",
       "      <th>label</th>\n",
       "    </tr>\n",
       "  </thead>\n",
       "  <tbody>\n",
       "    <tr>\n",
       "      <th>0</th>\n",
       "      <td>[[0, 0, 0, 0, 0, 0, 0, 0, 0, 0, 0, 0, 0, 0, 0,...</td>\n",
       "      <td>5</td>\n",
       "    </tr>\n",
       "    <tr>\n",
       "      <th>1</th>\n",
       "      <td>[[0, 0, 0, 0, 0, 0, 0, 0, 0, 0, 0, 0, 0, 0, 0,...</td>\n",
       "      <td>0</td>\n",
       "    </tr>\n",
       "    <tr>\n",
       "      <th>2</th>\n",
       "      <td>[[0, 0, 0, 0, 0, 0, 0, 0, 0, 0, 0, 0, 0, 0, 0,...</td>\n",
       "      <td>4</td>\n",
       "    </tr>\n",
       "    <tr>\n",
       "      <th>3</th>\n",
       "      <td>[[0, 0, 0, 0, 0, 0, 0, 0, 0, 0, 0, 0, 0, 0, 0,...</td>\n",
       "      <td>1</td>\n",
       "    </tr>\n",
       "    <tr>\n",
       "      <th>4</th>\n",
       "      <td>[[0, 0, 0, 0, 0, 0, 0, 0, 0, 0, 0, 0, 0, 0, 0,...</td>\n",
       "      <td>9</td>\n",
       "    </tr>\n",
       "  </tbody>\n",
       "</table>\n",
       "</div>"
      ],
      "text/plain": [
       "                                               image  label\n",
       "0  [[0, 0, 0, 0, 0, 0, 0, 0, 0, 0, 0, 0, 0, 0, 0,...      5\n",
       "1  [[0, 0, 0, 0, 0, 0, 0, 0, 0, 0, 0, 0, 0, 0, 0,...      0\n",
       "2  [[0, 0, 0, 0, 0, 0, 0, 0, 0, 0, 0, 0, 0, 0, 0,...      4\n",
       "3  [[0, 0, 0, 0, 0, 0, 0, 0, 0, 0, 0, 0, 0, 0, 0,...      1\n",
       "4  [[0, 0, 0, 0, 0, 0, 0, 0, 0, 0, 0, 0, 0, 0, 0,...      9"
      ]
     },
     "execution_count": 4,
     "metadata": {},
     "output_type": "execute_result"
    }
   ],
   "source": [
    "train_df.head()"
   ]
  },
  {
   "cell_type": "code",
   "execution_count": 5,
   "id": "d03c432a",
   "metadata": {},
   "outputs": [
    {
     "data": {
      "text/html": [
       "<div>\n",
       "<style scoped>\n",
       "    .dataframe tbody tr th:only-of-type {\n",
       "        vertical-align: middle;\n",
       "    }\n",
       "\n",
       "    .dataframe tbody tr th {\n",
       "        vertical-align: top;\n",
       "    }\n",
       "\n",
       "    .dataframe thead th {\n",
       "        text-align: right;\n",
       "    }\n",
       "</style>\n",
       "<table border=\"1\" class=\"dataframe\">\n",
       "  <thead>\n",
       "    <tr style=\"text-align: right;\">\n",
       "      <th></th>\n",
       "      <th>image</th>\n",
       "      <th>label</th>\n",
       "    </tr>\n",
       "  </thead>\n",
       "  <tbody>\n",
       "    <tr>\n",
       "      <th>0</th>\n",
       "      <td>[[0, 0, 0, 0, 0, 0, 0, 0, 0, 0, 0, 0, 0, 0, 0,...</td>\n",
       "      <td>7</td>\n",
       "    </tr>\n",
       "    <tr>\n",
       "      <th>1</th>\n",
       "      <td>[[0, 0, 0, 0, 0, 0, 0, 0, 0, 0, 0, 0, 0, 0, 0,...</td>\n",
       "      <td>2</td>\n",
       "    </tr>\n",
       "    <tr>\n",
       "      <th>2</th>\n",
       "      <td>[[0, 0, 0, 0, 0, 0, 0, 0, 0, 0, 0, 0, 0, 0, 0,...</td>\n",
       "      <td>1</td>\n",
       "    </tr>\n",
       "    <tr>\n",
       "      <th>3</th>\n",
       "      <td>[[0, 0, 0, 0, 0, 0, 0, 0, 0, 0, 0, 0, 0, 0, 0,...</td>\n",
       "      <td>0</td>\n",
       "    </tr>\n",
       "    <tr>\n",
       "      <th>4</th>\n",
       "      <td>[[0, 0, 0, 0, 0, 0, 0, 0, 0, 0, 0, 0, 0, 0, 0,...</td>\n",
       "      <td>4</td>\n",
       "    </tr>\n",
       "  </tbody>\n",
       "</table>\n",
       "</div>"
      ],
      "text/plain": [
       "                                               image  label\n",
       "0  [[0, 0, 0, 0, 0, 0, 0, 0, 0, 0, 0, 0, 0, 0, 0,...      7\n",
       "1  [[0, 0, 0, 0, 0, 0, 0, 0, 0, 0, 0, 0, 0, 0, 0,...      2\n",
       "2  [[0, 0, 0, 0, 0, 0, 0, 0, 0, 0, 0, 0, 0, 0, 0,...      1\n",
       "3  [[0, 0, 0, 0, 0, 0, 0, 0, 0, 0, 0, 0, 0, 0, 0,...      0\n",
       "4  [[0, 0, 0, 0, 0, 0, 0, 0, 0, 0, 0, 0, 0, 0, 0,...      4"
      ]
     },
     "execution_count": 5,
     "metadata": {},
     "output_type": "execute_result"
    }
   ],
   "source": [
    "test_df.head()"
   ]
  },
  {
   "cell_type": "code",
   "execution_count": 6,
   "id": "c83b7231",
   "metadata": {},
   "outputs": [],
   "source": [
    "train_df.to_csv('train_df.csv' , index= False)"
   ]
  },
  {
   "cell_type": "code",
   "execution_count": 7,
   "id": "1243211d",
   "metadata": {},
   "outputs": [],
   "source": [
    "test_df.to_csv('test_df.csv' , index= False)"
   ]
  },
  {
   "cell_type": "code",
   "execution_count": 8,
   "id": "ace15783",
   "metadata": {},
   "outputs": [],
   "source": [
    "#Reading the pandas data frmaes"
   ]
  },
  {
   "cell_type": "code",
   "execution_count": 50,
   "id": "ca9fdc49",
   "metadata": {},
   "outputs": [
    {
     "data": {
      "text/plain": [
       "pandas.core.frame.DataFrame"
      ]
     },
     "execution_count": 50,
     "metadata": {},
     "output_type": "execute_result"
    }
   ],
   "source": [
    "df1 = pd.read_csv('train_df.csv')\n",
    "# type(df1)"
   ]
  },
  {
   "cell_type": "code",
   "execution_count": 52,
   "id": "df73f44e",
   "metadata": {},
   "outputs": [
    {
     "data": {
      "text/html": [
       "<div>\n",
       "<style scoped>\n",
       "    .dataframe tbody tr th:only-of-type {\n",
       "        vertical-align: middle;\n",
       "    }\n",
       "\n",
       "    .dataframe tbody tr th {\n",
       "        vertical-align: top;\n",
       "    }\n",
       "\n",
       "    .dataframe thead th {\n",
       "        text-align: right;\n",
       "    }\n",
       "</style>\n",
       "<table border=\"1\" class=\"dataframe\">\n",
       "  <thead>\n",
       "    <tr style=\"text-align: right;\">\n",
       "      <th></th>\n",
       "      <th>image</th>\n",
       "      <th>label</th>\n",
       "    </tr>\n",
       "  </thead>\n",
       "  <tbody>\n",
       "    <tr>\n",
       "      <th>0</th>\n",
       "      <td>[[  0   0   0   0   0   0   0   0   0   0   0 ...</td>\n",
       "      <td>5</td>\n",
       "    </tr>\n",
       "    <tr>\n",
       "      <th>1</th>\n",
       "      <td>[[  0   0   0   0   0   0   0   0   0   0   0 ...</td>\n",
       "      <td>0</td>\n",
       "    </tr>\n",
       "    <tr>\n",
       "      <th>2</th>\n",
       "      <td>[[  0   0   0   0   0   0   0   0   0   0   0 ...</td>\n",
       "      <td>4</td>\n",
       "    </tr>\n",
       "    <tr>\n",
       "      <th>3</th>\n",
       "      <td>[[  0   0   0   0   0   0   0   0   0   0   0 ...</td>\n",
       "      <td>1</td>\n",
       "    </tr>\n",
       "    <tr>\n",
       "      <th>4</th>\n",
       "      <td>[[  0   0   0   0   0   0   0   0   0   0   0 ...</td>\n",
       "      <td>9</td>\n",
       "    </tr>\n",
       "    <tr>\n",
       "      <th>5</th>\n",
       "      <td>[[  0   0   0   0   0   0   0   0   0   0   0 ...</td>\n",
       "      <td>2</td>\n",
       "    </tr>\n",
       "    <tr>\n",
       "      <th>6</th>\n",
       "      <td>[[  0   0   0   0   0   0   0   0   0   0   0 ...</td>\n",
       "      <td>1</td>\n",
       "    </tr>\n",
       "    <tr>\n",
       "      <th>7</th>\n",
       "      <td>[[  0   0   0   0   0   0   0   0   0   0   0 ...</td>\n",
       "      <td>3</td>\n",
       "    </tr>\n",
       "    <tr>\n",
       "      <th>8</th>\n",
       "      <td>[[  0   0   0   0   0   0   0   0   0   0   0 ...</td>\n",
       "      <td>1</td>\n",
       "    </tr>\n",
       "    <tr>\n",
       "      <th>9</th>\n",
       "      <td>[[  0   0   0   0   0   0   0   0   0   0   0 ...</td>\n",
       "      <td>4</td>\n",
       "    </tr>\n",
       "  </tbody>\n",
       "</table>\n",
       "</div>"
      ],
      "text/plain": [
       "                                               image  label\n",
       "0  [[  0   0   0   0   0   0   0   0   0   0   0 ...      5\n",
       "1  [[  0   0   0   0   0   0   0   0   0   0   0 ...      0\n",
       "2  [[  0   0   0   0   0   0   0   0   0   0   0 ...      4\n",
       "3  [[  0   0   0   0   0   0   0   0   0   0   0 ...      1\n",
       "4  [[  0   0   0   0   0   0   0   0   0   0   0 ...      9\n",
       "5  [[  0   0   0   0   0   0   0   0   0   0   0 ...      2\n",
       "6  [[  0   0   0   0   0   0   0   0   0   0   0 ...      1\n",
       "7  [[  0   0   0   0   0   0   0   0   0   0   0 ...      3\n",
       "8  [[  0   0   0   0   0   0   0   0   0   0   0 ...      1\n",
       "9  [[  0   0   0   0   0   0   0   0   0   0   0 ...      4"
      ]
     },
     "execution_count": 52,
     "metadata": {},
     "output_type": "execute_result"
    }
   ],
   "source": [
    "df1.head(10)"
   ]
  },
  {
   "cell_type": "code",
   "execution_count": 14,
   "id": "d50b46e7",
   "metadata": {},
   "outputs": [
    {
     "data": {
      "text/html": [
       "<div>\n",
       "<style scoped>\n",
       "    .dataframe tbody tr th:only-of-type {\n",
       "        vertical-align: middle;\n",
       "    }\n",
       "\n",
       "    .dataframe tbody tr th {\n",
       "        vertical-align: top;\n",
       "    }\n",
       "\n",
       "    .dataframe thead th {\n",
       "        text-align: right;\n",
       "    }\n",
       "</style>\n",
       "<table border=\"1\" class=\"dataframe\">\n",
       "  <thead>\n",
       "    <tr style=\"text-align: right;\">\n",
       "      <th></th>\n",
       "      <th>image</th>\n",
       "      <th>label</th>\n",
       "    </tr>\n",
       "  </thead>\n",
       "  <tbody>\n",
       "    <tr>\n",
       "      <th>0</th>\n",
       "      <td>[[  0   0   0   0   0   0   0   0   0   0   0 ...</td>\n",
       "      <td>5</td>\n",
       "    </tr>\n",
       "    <tr>\n",
       "      <th>1</th>\n",
       "      <td>[[  0   0   0   0   0   0   0   0   0   0   0 ...</td>\n",
       "      <td>0</td>\n",
       "    </tr>\n",
       "    <tr>\n",
       "      <th>2</th>\n",
       "      <td>[[  0   0   0   0   0   0   0   0   0   0   0 ...</td>\n",
       "      <td>4</td>\n",
       "    </tr>\n",
       "    <tr>\n",
       "      <th>3</th>\n",
       "      <td>[[  0   0   0   0   0   0   0   0   0   0   0 ...</td>\n",
       "      <td>1</td>\n",
       "    </tr>\n",
       "    <tr>\n",
       "      <th>4</th>\n",
       "      <td>[[  0   0   0   0   0   0   0   0   0   0   0 ...</td>\n",
       "      <td>9</td>\n",
       "    </tr>\n",
       "  </tbody>\n",
       "</table>\n",
       "</div>"
      ],
      "text/plain": [
       "                                               image  label\n",
       "0  [[  0   0   0   0   0   0   0   0   0   0   0 ...      5\n",
       "1  [[  0   0   0   0   0   0   0   0   0   0   0 ...      0\n",
       "2  [[  0   0   0   0   0   0   0   0   0   0   0 ...      4\n",
       "3  [[  0   0   0   0   0   0   0   0   0   0   0 ...      1\n",
       "4  [[  0   0   0   0   0   0   0   0   0   0   0 ...      9"
      ]
     },
     "execution_count": 14,
     "metadata": {},
     "output_type": "execute_result"
    }
   ],
   "source": [
    "df1.head()"
   ]
  },
  {
   "cell_type": "code",
   "execution_count": 16,
   "id": "671fa2ad",
   "metadata": {},
   "outputs": [
    {
     "data": {
      "text/html": [
       "<div>\n",
       "<style scoped>\n",
       "    .dataframe tbody tr th:only-of-type {\n",
       "        vertical-align: middle;\n",
       "    }\n",
       "\n",
       "    .dataframe tbody tr th {\n",
       "        vertical-align: top;\n",
       "    }\n",
       "\n",
       "    .dataframe thead th {\n",
       "        text-align: right;\n",
       "    }\n",
       "</style>\n",
       "<table border=\"1\" class=\"dataframe\">\n",
       "  <thead>\n",
       "    <tr style=\"text-align: right;\">\n",
       "      <th></th>\n",
       "      <th>image</th>\n",
       "      <th>label</th>\n",
       "    </tr>\n",
       "  </thead>\n",
       "  <tbody>\n",
       "    <tr>\n",
       "      <th>0</th>\n",
       "      <td>[[  0   0   0   0   0   0   0   0   0   0   0 ...</td>\n",
       "      <td>7</td>\n",
       "    </tr>\n",
       "    <tr>\n",
       "      <th>1</th>\n",
       "      <td>[[  0   0   0   0   0   0   0   0   0   0   0 ...</td>\n",
       "      <td>2</td>\n",
       "    </tr>\n",
       "    <tr>\n",
       "      <th>2</th>\n",
       "      <td>[[  0   0   0   0   0   0   0   0   0   0   0 ...</td>\n",
       "      <td>1</td>\n",
       "    </tr>\n",
       "    <tr>\n",
       "      <th>3</th>\n",
       "      <td>[[  0   0   0   0   0   0   0   0   0   0   0 ...</td>\n",
       "      <td>0</td>\n",
       "    </tr>\n",
       "    <tr>\n",
       "      <th>4</th>\n",
       "      <td>[[  0   0   0   0   0   0   0   0   0   0   0 ...</td>\n",
       "      <td>4</td>\n",
       "    </tr>\n",
       "  </tbody>\n",
       "</table>\n",
       "</div>"
      ],
      "text/plain": [
       "                                               image  label\n",
       "0  [[  0   0   0   0   0   0   0   0   0   0   0 ...      7\n",
       "1  [[  0   0   0   0   0   0   0   0   0   0   0 ...      2\n",
       "2  [[  0   0   0   0   0   0   0   0   0   0   0 ...      1\n",
       "3  [[  0   0   0   0   0   0   0   0   0   0   0 ...      0\n",
       "4  [[  0   0   0   0   0   0   0   0   0   0   0 ...      4"
      ]
     },
     "execution_count": 16,
     "metadata": {},
     "output_type": "execute_result"
    }
   ],
   "source": [
    "df2 = pd.read_csv('test_df.csv')\n",
    "df2.head()"
   ]
  },
  {
   "cell_type": "code",
   "execution_count": 31,
   "id": "197c1006",
   "metadata": {},
   "outputs": [],
   "source": [
    "tr_img = df1['image'].to_numpy()\n",
    "tr_lab = df1['label'].to_numpy()\n",
    "ts_img = df2['image'].to_numpy()\n",
    "ts_lab = df2['label'].to_numpy()\n"
   ]
  },
  {
   "cell_type": "code",
   "execution_count": 32,
   "id": "b791022b",
   "metadata": {},
   "outputs": [],
   "source": [
    "new_dataset = ((tr_img, tr_lab), (ts_img, ts_lab))"
   ]
  },
  {
   "cell_type": "code",
   "execution_count": 35,
   "id": "f85dbf9b",
   "metadata": {},
   "outputs": [
    {
     "data": {
      "text/plain": [
       "numpy.ndarray"
      ]
     },
     "execution_count": 35,
     "metadata": {},
     "output_type": "execute_result"
    }
   ],
   "source": [
    "type(tr_img)"
   ]
  },
  {
   "cell_type": "code",
   "execution_count": 42,
   "id": "f6dc913b",
   "metadata": {},
   "outputs": [
    {
     "data": {
      "text/plain": [
       "<matplotlib.image.AxesImage at 0x219a9bcde50>"
      ]
     },
     "execution_count": 42,
     "metadata": {},
     "output_type": "execute_result"
    },
    {
     "data": {
      "image/png": "[encoded data removed]",
      "text/plain": [
       "<Figure size 432x288 with 1 Axes>"
      ]
     },
     "metadata": {
      "needs_background": "light"
     },
     "output_type": "display_data"
    }
   ],
   "source": [
    "import matplotlib.pyplot as plt\n",
    "plt.imshow(dataset[0][0][9] , cmap='gray')\n",
    "# new_dataset[0][0][5]"
   ]
  },
  {
   "cell_type": "code",
   "execution_count": 44,
   "id": "e7f45c33",
   "metadata": {},
   "outputs": [
    {
     "data": {
      "text/plain": [
       "((array(['[[  0   0   0   0   0   0   0   0   0   0   0   0   0   0   0   0   0   0\\n    0   0   0   0   0   0   0   0   0   0]\\n [  0   0   0   0   0   0   0   0   0   0   0   0   0   0   0   0   0   0\\n    0   0   0   0   0   0   0   0   0   0]\\n [  0   0   0   0   0   0   0   0   0   0   0   0   0   0   0   0   0   0\\n    0   0   0   0   0   0   0   0   0   0]\\n [  0   0   0   0   0   0   0   0   0   0   0   0   0   0   0   0   0   0\\n    0   0   0   0   0   0   0   0   0   0]\\n [  0   0   0   0   0   0   0   0   0   0   0   0   0   0   0   0   0   0\\n    0   0   0   0   0   0   0   0   0   0]\\n [  0   0   0   0   0   0   0   0   0   0   0   0   3  18  18  18 126 136\\n  175  26 166 255 247 127   0   0   0   0]\\n [  0   0   0   0   0   0   0   0  30  36  94 154 170 253 253 253 253 253\\n  225 172 253 242 195  64   0   0   0   0]\\n [  0   0   0   0   0   0   0  49 238 253 253 253 253 253 253 253 253 251\\n   93  82  82  56  39   0   0   0   0   0]\\n [  0   0   0   0   0   0   0  18 219 253 253 253 253 253 198 182 247 241\\n    0   0   0   0   0   0   0   0   0   0]\\n [  0   0   0   0   0   0   0   0  80 156 107 253 253 205  11   0  43 154\\n    0   0   0   0   0   0   0   0   0   0]\\n [  0   0   0   0   0   0   0   0   0  14   1 154 253  90   0   0   0   0\\n    0   0   0   0   0   0   0   0   0   0]\\n [  0   0   0   0   0   0   0   0   0   0   0 139 253 190   2   0   0   0\\n    0   0   0   0   0   0   0   0   0   0]\\n [  0   0   0   0   0   0   0   0   0   0   0  11 190 253  70   0   0   0\\n    0   0   0   0   0   0   0   0   0   0]\\n [  0   0   0   0   0   0   0   0   0   0   0   0  35 241 225 160 108   1\\n    0   0   0   0   0   0   0   0   0   0]\\n [  0   0   0   0   0   0   0   0   0   0   0   0   0  81 240 253 253 119\\n   25   0   0   0   0   0   0   0   0   0]\\n [  0   0   0   0   0   0   0   0   0   0   0   0   0   0  45 186 253 253\\n  150  27   0   0   0   0   0   0   0   0]\\n [  0   0   0   0   0   0   0   0   0   0   0   0   0   0   0  16  93 252\\n  253 187   0   0   0   0   0   0   0   0]\\n [  0   0   0   0   0   0   0   0   0   0   0   0   0   0   0   0   0 249\\n  253 249  64   0   0   0   0   0   0   0]\\n [  0   0   0   0   0   0   0   0   0   0   0   0   0   0  46 130 183 253\\n  253 207   2   0   0   0   0   0   0   0]\\n [  0   0   0   0   0   0   0   0   0   0   0   0  39 148 229 253 253 253\\n  250 182   0   0   0   0   0   0   0   0]\\n [  0   0   0   0   0   0   0   0   0   0  24 114 221 253 253 253 253 201\\n   78   0   0   0   0   0   0   0   0   0]\\n [  0   0   0   0   0   0   0   0  23  66 213 253 253 253 253 198  81   2\\n    0   0   0   0   0   0   0   0   0   0]\\n [  0   0   0   0   0   0  18 171 219 253 253 253 253 195  80   9   0   0\\n    0   0   0   0   0   0   0   0   0   0]\\n [  0   0   0   0  55 172 226 253 253 253 253 244 133  11   0   0   0   0\\n    0   0   0   0   0   0   0   0   0   0]\\n [  0   0   0   0 136 253 253 253 212 135 132  16   0   0   0   0   0   0\\n    0   0   0   0   0   0   0   0   0   0]\\n [  0   0   0   0   0   0   0   0   0   0   0   0   0   0   0   0   0   0\\n    0   0   0   0   0   0   0   0   0   0]\\n [  0   0   0   0   0   0   0   0   0   0   0   0   0   0   0   0   0   0\\n    0   0   0   0   0   0   0   0   0   0]\\n [  0   0   0   0   0   0   0   0   0   0   0   0   0   0   0   0   0   0\\n    0   0   0   0   0   0   0   0   0   0]]',\n",
       "         '[[  0   0   0   0   0   0   0   0   0   0   0   0   0   0   0   0   0   0\\n    0   0   0   0   0   0   0   0   0   0]\\n [  0   0   0   0   0   0   0   0   0   0   0   0   0   0   0   0   0   0\\n    0   0   0   0   0   0   0   0   0   0]\\n [  0   0   0   0   0   0   0   0   0   0   0   0   0   0   0   0   0   0\\n    0   0   0   0   0   0   0   0   0   0]\\n [  0   0   0   0   0   0   0   0   0   0   0   0   0   0   0   0   0   0\\n    0   0   0   0   0   0   0   0   0   0]\\n [  0   0   0   0   0   0   0   0   0   0   0   0   0   0   0  51 159 253\\n  159  50   0   0   0   0   0   0   0   0]\\n [  0   0   0   0   0   0   0   0   0   0   0   0   0   0  48 238 252 252\\n  252 237   0   0   0   0   0   0   0   0]\\n [  0   0   0   0   0   0   0   0   0   0   0   0   0  54 227 253 252 239\\n  233 252  57   6   0   0   0   0   0   0]\\n [  0   0   0   0   0   0   0   0   0   0   0  10  60 224 252 253 252 202\\n   84 252 253 122   0   0   0   0   0   0]\\n [  0   0   0   0   0   0   0   0   0   0   0 163 252 252 252 253 252 252\\n   96 189 253 167   0   0   0   0   0   0]\\n [  0   0   0   0   0   0   0   0   0   0  51 238 253 253 190 114 253 228\\n   47  79 255 168   0   0   0   0   0   0]\\n [  0   0   0   0   0   0   0   0   0  48 238 252 252 179  12  75 121  21\\n    0   0 253 243  50   0   0   0   0   0]\\n [  0   0   0   0   0   0   0   0  38 165 253 233 208  84   0   0   0   0\\n    0   0 253 252 165   0   0   0   0   0]\\n [  0   0   0   0   0   0   0   7 178 252 240  71  19  28   0   0   0   0\\n    0   0 253 252 195   0   0   0   0   0]\\n [  0   0   0   0   0   0   0  57 252 252  63   0   0   0   0   0   0   0\\n    0   0 253 252 195   0   0   0   0   0]\\n [  0   0   0   0   0   0   0 198 253 190   0   0   0   0   0   0   0   0\\n    0   0 255 253 196   0   0   0   0   0]\\n [  0   0   0   0   0   0  76 246 252 112   0   0   0   0   0   0   0   0\\n    0   0 253 252 148   0   0   0   0   0]\\n [  0   0   0   0   0   0  85 252 230  25   0   0   0   0   0   0   0   0\\n    7 135 253 186  12   0   0   0   0   0]\\n [  0   0   0   0   0   0  85 252 223   0   0   0   0   0   0   0   0   7\\n  131 252 225  71   0   0   0   0   0   0]\\n [  0   0   0   0   0   0  85 252 145   0   0   0   0   0   0   0  48 165\\n  252 173   0   0   0   0   0   0   0   0]\\n [  0   0   0   0   0   0  86 253 225   0   0   0   0   0   0 114 238 253\\n  162   0   0   0   0   0   0   0   0   0]\\n [  0   0   0   0   0   0  85 252 249 146  48  29  85 178 225 253 223 167\\n   56   0   0   0   0   0   0   0   0   0]\\n [  0   0   0   0   0   0  85 252 252 252 229 215 252 252 252 196 130   0\\n    0   0   0   0   0   0   0   0   0   0]\\n [  0   0   0   0   0   0  28 199 252 252 253 252 252 233 145   0   0   0\\n    0   0   0   0   0   0   0   0   0   0]\\n [  0   0   0   0   0   0   0  25 128 252 253 252 141  37   0   0   0   0\\n    0   0   0   0   0   0   0   0   0   0]\\n [  0   0   0   0   0   0   0   0   0   0   0   0   0   0   0   0   0   0\\n    0   0   0   0   0   0   0   0   0   0]\\n [  0   0   0   0   0   0   0   0   0   0   0   0   0   0   0   0   0   0\\n    0   0   0   0   0   0   0   0   0   0]\\n [  0   0   0   0   0   0   0   0   0   0   0   0   0   0   0   0   0   0\\n    0   0   0   0   0   0   0   0   0   0]\\n [  0   0   0   0   0   0   0   0   0   0   0   0   0   0   0   0   0   0\\n    0   0   0   0   0   0   0   0   0   0]]',\n",
       "         '[[  0   0   0   0   0   0   0   0   0   0   0   0   0   0   0   0   0   0\\n    0   0   0   0   0   0   0   0   0   0]\\n [  0   0   0   0   0   0   0   0   0   0   0   0   0   0   0   0   0   0\\n    0   0   0   0   0   0   0   0   0   0]\\n [  0   0   0   0   0   0   0   0   0   0   0   0   0   0   0   0   0   0\\n    0   0   0   0   0   0   0   0   0   0]\\n [  0   0   0   0   0   0   0   0   0   0   0   0   0   0   0   0   0   0\\n    0   0   0   0   0   0   0   0   0   0]\\n [  0   0   0   0   0   0   0   0   0   0   0   0   0   0   0   0   0   0\\n    0   0   0   0   0   0   0   0   0   0]\\n [  0   0   0   0   0   0   0   0   0   0   0   0   0   0   0   0   0   0\\n    0   0  67 232  39   0   0   0   0   0]\\n [  0   0   0   0  62  81   0   0   0   0   0   0   0   0   0   0   0   0\\n    0   0 120 180  39   0   0   0   0   0]\\n [  0   0   0   0 126 163   0   0   0   0   0   0   0   0   0   0   0   0\\n    0   2 153 210  40   0   0   0   0   0]\\n [  0   0   0   0 220 163   0   0   0   0   0   0   0   0   0   0   0   0\\n    0  27 254 162   0   0   0   0   0   0]\\n [  0   0   0   0 222 163   0   0   0   0   0   0   0   0   0   0   0   0\\n    0 183 254 125   0   0   0   0   0   0]\\n [  0   0   0  46 245 163   0   0   0   0   0   0   0   0   0   0   0   0\\n    0 198 254  56   0   0   0   0   0   0]\\n [  0   0   0 120 254 163   0   0   0   0   0   0   0   0   0   0   0   0\\n   23 231 254  29   0   0   0   0   0   0]\\n [  0   0   0 159 254 120   0   0   0   0   0   0   0   0   0   0   0   0\\n  163 254 216  16   0   0   0   0   0   0]\\n [  0   0   0 159 254  67   0   0   0   0   0   0   0   0   0  14  86 178\\n  248 254  91   0   0   0   0   0   0   0]\\n [  0   0   0 159 254  85   0   0   0  47  49 116 144 150 241 243 234 179\\n  241 252  40   0   0   0   0   0   0   0]\\n [  0   0   0 150 253 237 207 207 207 253 254 250 240 198 143  91  28   5\\n  233 250   0   0   0   0   0   0   0   0]\\n [  0   0   0   0 119 177 177 177 177 177  98  56   0   0   0   0   0 102\\n  254 220   0   0   0   0   0   0   0   0]\\n [  0   0   0   0   0   0   0   0   0   0   0   0   0   0   0   0   0 169\\n  254 137   0   0   0   0   0   0   0   0]\\n [  0   0   0   0   0   0   0   0   0   0   0   0   0   0   0   0   0 169\\n  254  57   0   0   0   0   0   0   0   0]\\n [  0   0   0   0   0   0   0   0   0   0   0   0   0   0   0   0   0 169\\n  254  57   0   0   0   0   0   0   0   0]\\n [  0   0   0   0   0   0   0   0   0   0   0   0   0   0   0   0   0 169\\n  255  94   0   0   0   0   0   0   0   0]\\n [  0   0   0   0   0   0   0   0   0   0   0   0   0   0   0   0   0 169\\n  254  96   0   0   0   0   0   0   0   0]\\n [  0   0   0   0   0   0   0   0   0   0   0   0   0   0   0   0   0 169\\n  254 153   0   0   0   0   0   0   0   0]\\n [  0   0   0   0   0   0   0   0   0   0   0   0   0   0   0   0   0 169\\n  255 153   0   0   0   0   0   0   0   0]\\n [  0   0   0   0   0   0   0   0   0   0   0   0   0   0   0   0   0  96\\n  254 153   0   0   0   0   0   0   0   0]\\n [  0   0   0   0   0   0   0   0   0   0   0   0   0   0   0   0   0   0\\n    0   0   0   0   0   0   0   0   0   0]\\n [  0   0   0   0   0   0   0   0   0   0   0   0   0   0   0   0   0   0\\n    0   0   0   0   0   0   0   0   0   0]\\n [  0   0   0   0   0   0   0   0   0   0   0   0   0   0   0   0   0   0\\n    0   0   0   0   0   0   0   0   0   0]]',\n",
       "         ...,\n",
       "         '[[  0   0   0   0   0   0   0   0   0   0   0   0   0   0   0   0   0   0\\n    0   0   0   0   0   0   0   0   0   0]\\n [  0   0   0   0   0   0   0   0   0   0   0   0   0   0   0   0   0   0\\n    0   0   0   0   0   0   0   0   0   0]\\n [  0   0   0   0   0   0   0   0   0   0   0   0   0   0   0   0   0   0\\n    0   0   0   0   0   0   0   0   0   0]\\n [  0   0   0   0   0   0   0   0   0   0   0   0   0   0   0   0   0   0\\n    0   0   0   0   0   0   0   0   0   0]\\n [  0   0   0   0   0   0   0   0   0   0   0   0   0   0   0   0   0   0\\n    0   0   0   0   0   0   0   0   0   0]\\n [  0   0   0   0   0   0   0   0   0   0   0   0   0   0   0   0   0   0\\n    0  96 121 213 255 255 121   0   0   0]\\n [  0   0   0   0   0   0   0   0   0   0   0   0   0   0   0  52 108 157\\n  241 251 253 253 242 146  69   0   0   0]\\n [  0   0   0   0   0   0   0   0   0   0   0   0  10  94 164 241 253 253\\n  223 159 131  26  23   0   0   0   0   0]\\n [  0   0   0   0   0   0   0   0   0   0  60 102 218 253 253 216 117  39\\n   27   0   0   0   0   0   0   0   0   0]\\n [  0   0   0   0   0   0   0   0   0  54 205 253 253 253 147  28   0   0\\n    0   0   0   0   0   0   0   0   0   0]\\n [  0   0   0   0   0   0   0   0  60 240 253 253 253 243  31   0   0   0\\n    0   0   0   0   0   0   0   0   0   0]\\n [  0   0   0   0   0   0   0   0  26  80 208 253 253 147   0   0   0   0\\n    0   0   0   0   0   0   0   0   0   0]\\n [  0   0   0   0   0   0   0   0   0  36 222 253 253 121   0   0   0   0\\n    0   0   0   0   0   0   0   0   0   0]\\n [  0   0   0   0   0   0   0   0   0   0 177 242 253 248 147 148  91   2\\n    0   0   0   0   0   0   0   0   0   0]\\n [  0   0   0   0   0   0   0   0   0   0   0  19 120 197 253 254 253  97\\n    0   0   0   0   0   0   0   0   0   0]\\n [  0   0   0   0   0   0   0   0   0   0   0   0   0   0  72 192 254 254\\n   40   0   0   0   0   0   0   0   0   0]\\n [  0   0   0   0   0   0   0   0   0   0   0   0   0   0   0   6 242 253\\n   39   0   0   0   0   0   0   0   0   0]\\n [  0   0   0   0   0   0   0   0   0   0   0   0   0   0   0   0 121 253\\n  159   0   0   0   0   0   0   0   0   0]\\n [  0   0   0   0   0   0   0   0   0   0   0   0   0   0   0   0 108 253\\n  173   0   0   0   0   0   0   0   0   0]\\n [  0   0   0   0   0   0   0   0   0   0   0   0   0   0   0   0 108 253\\n  173   0   0   0   0   0   0   0   0   0]\\n [  0   0   0   0   0   0   0   0   0   0   0   0   0   0   0   0 108 253\\n   74   0   0   0   0   0   0   0   0   0]\\n [  0   0   0   0   0  22   0   0   0   0   0   0   0   0   0  20 201 253\\n   39   0   0   0   0   0   0   0   0   0]\\n [  0   0   0   0   0 196 161  41   5   0   0   0   3  27  98 206 253 194\\n   15   0   0   0   0   0   0   0   0   0]\\n [  0   0   0   0   0 115 240 252 163 147 147 147 158 253 253 255 184  67\\n    0   0   0   0   0   0   0   0   0   0]\\n [  0   0   0   0   0   0   0 157 253 253 253 253 253 253 253 121   6   0\\n    0   0   0   0   0   0   0   0   0   0]\\n [  0   0   0   0   0   0   0   0   0   0   0   0   0   0   0   0   0   0\\n    0   0   0   0   0   0   0   0   0   0]\\n [  0   0   0   0   0   0   0   0   0   0   0   0   0   0   0   0   0   0\\n    0   0   0   0   0   0   0   0   0   0]\\n [  0   0   0   0   0   0   0   0   0   0   0   0   0   0   0   0   0   0\\n    0   0   0   0   0   0   0   0   0   0]]',\n",
       "         '[[  0   0   0   0   0   0   0   0   0   0   0   0   0   0   0   0   0   0\\n    0   0   0   0   0   0   0   0   0   0]\\n [  0   0   0   0   0   0   0   0   0   0   0   0   0   0   0   0   0   0\\n    0   0   0   0   0   0   0   0   0   0]\\n [  0   0   0   0   0   0   0   0   0   0   0   0   0   0   0   0   0   0\\n   55 192 230  27   0   0   0   0   0   0]\\n [  0   0   0   0   0   0   0   0   0   0   0   0   0   0   0   0   0   8\\n  152 252 193  27   0   0   0   0   0   0]\\n [  0   0   0   0   0   0   0   0   0   0   0   0   0   0   0   0   8 129\\n  252 190   9   0   0   0   0   0   0   0]\\n [  0   0   0   0   0   0   0   0   0   0   0   0   0   0   0   0 155 252\\n  210  14   0   0   0   0   0   0   0   0]\\n [  0   0   0   0   0   0   0   0   0   0   0   0   0   0   0  62 216 199\\n   66   0   0   0   0   0   0   0   0   0]\\n [  0   0   0   0   0   0   0   0   0   0   0   0   0  11  43 254 222  62\\n    0   0   0   0   0   0   0   0   0   0]\\n [  0   0   0   0   0   0   0   0   0   0   0   0   0 143 252 222  16   0\\n    0   0   0   0   0   0   0   0   0   0]\\n [  0   0   0   0   0   0   0   0   0   0   0   0 169 246 208  17   0   0\\n    0   0   0   0   0   0   0   0   0   0]\\n [  0   0   0   0   0   0   0   0   0   0  11 143 246 236 101   0   0   0\\n    0   0   0   0   0   0   0   0   0   0]\\n [  0   0   0   0   0   0   0   0   0   0  69 226 199 111   0   0   0   0\\n    0   0   0   0   0   0   0   0   0   0]\\n [  0   0   0   0   0   0   0   0   0   0 254 253  21   0   0   0   0   0\\n    0   0   0   0   0   0   0   0   0   0]\\n [  0   0   0   0   0   0   0   0   0 124 253 110   5   0   0   0   0   0\\n   22 128 191 190 137  28   0   0   0   0]\\n [  0   0   0   0   0   0   0   0 112 241 170  32   0   0   0  31 127 180\\n  237 252 253 252 242  42   0   0   0   0]\\n [  0   0   0   0   0   0   0   6 190 226   0   0   0   0  27 218 252 194\\n  162  84  84 131 232  35   0   0   0   0]\\n [  0   0   0   0   0   0   0 110 252 147   0   0   0   0 194 253 217  56\\n    0   0  18 216 187   0   0   0   0   0]\\n [  0   0   0   0   0   0   0 233 216  18   0   0   0  27 194 150 106   9\\n    0 124 255 186   9   0   0   0   0   0]\\n [  0   0   0   0   0   0  64 247 110   0   0   0   0   0   0   0   0  87\\n  146 163  63  16   0   0   0   0   0   0]\\n [  0   0   0   0   0   0  14 236 128   0   0   0  11  22  66 128 206 231\\n  178  12   0   0   0   0   0   0   0   0]\\n [  0   0   0   0   0   0  28 239 196 169  82 169 211 252 252 128  84   7\\n    0   0   0   0   0   0   0   0   0   0]\\n [  0   0   0   0   0   0  36 241 252 252 253 217 138  42  42   0   0   0\\n    0   0   0   0   0   0   0   0   0   0]\\n [  0   0   0   0   0   0   0   0   0   0   0   0   0   0   0   0   0   0\\n    0   0   0   0   0   0   0   0   0   0]\\n [  0   0   0   0   0   0   0   0   0   0   0   0   0   0   0   0   0   0\\n    0   0   0   0   0   0   0   0   0   0]\\n [  0   0   0   0   0   0   0   0   0   0   0   0   0   0   0   0   0   0\\n    0   0   0   0   0   0   0   0   0   0]\\n [  0   0   0   0   0   0   0   0   0   0   0   0   0   0   0   0   0   0\\n    0   0   0   0   0   0   0   0   0   0]\\n [  0   0   0   0   0   0   0   0   0   0   0   0   0   0   0   0   0   0\\n    0   0   0   0   0   0   0   0   0   0]\\n [  0   0   0   0   0   0   0   0   0   0   0   0   0   0   0   0   0   0\\n    0   0   0   0   0   0   0   0   0   0]]',\n",
       "         '[[  0   0   0   0   0   0   0   0   0   0   0   0   0   0   0   0   0   0\\n    0   0   0   0   0   0   0   0   0   0]\\n [  0   0   0   0   0   0   0   0   0   0   0   0   0   0   0   0   0   0\\n    0   0   0   0   0   0   0   0   0   0]\\n [  0   0   0   0   0   0   0   0   0   0   0   0   0   0   0   0   0   0\\n    0   0   0   0   0   0   0   0   0   0]\\n [  0   0   0   0   0   0   0   0   0   0   0   0   0   0   0   0   0   0\\n    0   0   0   0   0   0   0   0   0   0]\\n [  0   0   0   0   0   0   0   0   0   0   0   0   0   0   0   0   0   0\\n    0   0   0   0   0   0   0   0   0   0]\\n [  0   0   0   0   0   0   0   0   0   0   0   0   0   0   0   0   0   0\\n    0   0   0   0   0   0   0   0   0   0]\\n [  0   0   0   0   0   0   0   0   0   0   0   0   0   0   0   0  38  48\\n   48  22   0   0   0   0   0   0   0   0]\\n [  0   0   0   0   0   0   0   0   0   0   0   0   0  62  97 198 243 254\\n  254 212  27   0   0   0   0   0   0   0]\\n [  0   0   0   0   0   0   0   0   0   0   0   0  67 172 254 254 225 218\\n  218 237 248  40   0  21 164 187   0   0]\\n [  0   0   0   0   0   0   0   0   0   0   0  89 219 254  97  67  14   0\\n    0  92 231 122  23 203 236  59   0   0]\\n [  0   0   0   0   0   0   0   0   0   0  25 217 242  92   4   0   0   0\\n    0   4 147 253 240 232  92   0   0   0]\\n [  0   0   0   0   0   0   0   0   0   0 101 255  92   0   0   0   0   0\\n    0 105 254 254 177  11   0   0   0   0]\\n [  0   0   0   0   0   0   0   0   0   0 167 244  41   0   0   0   7  76\\n  199 238 239  94  10   0   0   0   0   0]\\n [  0   0   0   0   0   0   0   0   0   0 192 121   0   0   2  63 180 254\\n  233 126   0   0   0   0   0   0   0   0]\\n [  0   0   0   0   0   0   0   0   0   0 190 196  14   2  97 254 252 146\\n   52   0   0   0   0   0   0   0   0   0]\\n [  0   0   0   0   0   0   0   0   0   0 130 225  71 180 232 181  60   0\\n    0   0   0   0   0   0   0   0   0   0]\\n [  0   0   0   0   0   0   0   0   0   0 130 254 254 230  46   0   0   0\\n    0   0   0   0   0   0   0   0   0   0]\\n [  0   0   0   0   0   0   0   0   6  77 244 254 162   4   0   0   0   0\\n    0   0   0   0   0   0   0   0   0   0]\\n [  0   0   0   0   0   0   0   0 110 254 218 254 116   0   0   0   0   0\\n    0   0   0   0   0   0   0   0   0   0]\\n [  0   0   0   0   0   0   0 131 254 154  28 213  86   0   0   0   0   0\\n    0   0   0   0   0   0   0   0   0   0]\\n [  0   0   0   0   0   0  66 209 153  19  19 233  60   0   0   0   0   0\\n    0   0   0   0   0   0   0   0   0   0]\\n [  0   0   0   0   0   0 142 254 165   0  14 216 167   0   0   0   0   0\\n    0   0   0   0   0   0   0   0   0   0]\\n [  0   0   0   0   0   0  90 254 175   0  18 229  92   0   0   0   0   0\\n    0   0   0   0   0   0   0   0   0   0]\\n [  0   0   0   0   0   0  26 229 249 176 222 244  44   0   0   0   0   0\\n    0   0   0   0   0   0   0   0   0   0]\\n [  0   0   0   0   0   0   0  73 193 197 134   0   0   0   0   0   0   0\\n    0   0   0   0   0   0   0   0   0   0]\\n [  0   0   0   0   0   0   0   0   0   0   0   0   0   0   0   0   0   0\\n    0   0   0   0   0   0   0   0   0   0]\\n [  0   0   0   0   0   0   0   0   0   0   0   0   0   0   0   0   0   0\\n    0   0   0   0   0   0   0   0   0   0]\\n [  0   0   0   0   0   0   0   0   0   0   0   0   0   0   0   0   0   0\\n    0   0   0   0   0   0   0   0   0   0]]'],\n",
       "        dtype=object),\n",
       "  array([5, 0, 4, ..., 5, 6, 8], dtype=int64)),\n",
       " (array(['[[  0   0   0   0   0   0   0   0   0   0   0   0   0   0   0   0   0   0\\n    0   0   0   0   0   0   0   0   0   0]\\n [  0   0   0   0   0   0   0   0   0   0   0   0   0   0   0   0   0   0\\n    0   0   0   0   0   0   0   0   0   0]\\n [  0   0   0   0   0   0   0   0   0   0   0   0   0   0   0   0   0   0\\n    0   0   0   0   0   0   0   0   0   0]\\n [  0   0   0   0   0   0   0   0   0   0   0   0   0   0   0   0   0   0\\n    0   0   0   0   0   0   0   0   0   0]\\n [  0   0   0   0   0   0   0   0   0   0   0   0   0   0   0   0   0   0\\n    0   0   0   0   0   0   0   0   0   0]\\n [  0   0   0   0   0   0   0   0   0   0   0   0   0   0   0   0   0   0\\n    0   0   0   0   0   0   0   0   0   0]\\n [  0   0   0   0   0   0   0   0   0   0   0   0   0   0   0   0   0   0\\n    0   0   0   0   0   0   0   0   0   0]\\n [  0   0   0   0   0   0  84 185 159 151  60  36   0   0   0   0   0   0\\n    0   0   0   0   0   0   0   0   0   0]\\n [  0   0   0   0   0   0 222 254 254 254 254 241 198 198 198 198 198 198\\n  198 198 170  52   0   0   0   0   0   0]\\n [  0   0   0   0   0   0  67 114  72 114 163 227 254 225 254 254 254 250\\n  229 254 254 140   0   0   0   0   0   0]\\n [  0   0   0   0   0   0   0   0   0   0   0  17  66  14  67  67  67  59\\n   21 236 254 106   0   0   0   0   0   0]\\n [  0   0   0   0   0   0   0   0   0   0   0   0   0   0   0   0   0   0\\n   83 253 209  18   0   0   0   0   0   0]\\n [  0   0   0   0   0   0   0   0   0   0   0   0   0   0   0   0   0  22\\n  233 255  83   0   0   0   0   0   0   0]\\n [  0   0   0   0   0   0   0   0   0   0   0   0   0   0   0   0   0 129\\n  254 238  44   0   0   0   0   0   0   0]\\n [  0   0   0   0   0   0   0   0   0   0   0   0   0   0   0   0  59 249\\n  254  62   0   0   0   0   0   0   0   0]\\n [  0   0   0   0   0   0   0   0   0   0   0   0   0   0   0   0 133 254\\n  187   5   0   0   0   0   0   0   0   0]\\n [  0   0   0   0   0   0   0   0   0   0   0   0   0   0   0   9 205 248\\n   58   0   0   0   0   0   0   0   0   0]\\n [  0   0   0   0   0   0   0   0   0   0   0   0   0   0   0 126 254 182\\n    0   0   0   0   0   0   0   0   0   0]\\n [  0   0   0   0   0   0   0   0   0   0   0   0   0   0  75 251 240  57\\n    0   0   0   0   0   0   0   0   0   0]\\n [  0   0   0   0   0   0   0   0   0   0   0   0   0  19 221 254 166   0\\n    0   0   0   0   0   0   0   0   0   0]\\n [  0   0   0   0   0   0   0   0   0   0   0   0   3 203 254 219  35   0\\n    0   0   0   0   0   0   0   0   0   0]\\n [  0   0   0   0   0   0   0   0   0   0   0   0  38 254 254  77   0   0\\n    0   0   0   0   0   0   0   0   0   0]\\n [  0   0   0   0   0   0   0   0   0   0   0  31 224 254 115   1   0   0\\n    0   0   0   0   0   0   0   0   0   0]\\n [  0   0   0   0   0   0   0   0   0   0   0 133 254 254  52   0   0   0\\n    0   0   0   0   0   0   0   0   0   0]\\n [  0   0   0   0   0   0   0   0   0   0  61 242 254 254  52   0   0   0\\n    0   0   0   0   0   0   0   0   0   0]\\n [  0   0   0   0   0   0   0   0   0   0 121 254 254 219  40   0   0   0\\n    0   0   0   0   0   0   0   0   0   0]\\n [  0   0   0   0   0   0   0   0   0   0 121 254 207  18   0   0   0   0\\n    0   0   0   0   0   0   0   0   0   0]\\n [  0   0   0   0   0   0   0   0   0   0   0   0   0   0   0   0   0   0\\n    0   0   0   0   0   0   0   0   0   0]]',\n",
       "         '[[  0   0   0   0   0   0   0   0   0   0   0   0   0   0   0   0   0   0\\n    0   0   0   0   0   0   0   0   0   0]\\n [  0   0   0   0   0   0   0   0   0   0   0   0   0   0   0   0   0   0\\n    0   0   0   0   0   0   0   0   0   0]\\n [  0   0   0   0   0   0   0   0   0   0   0   0   0   0   0   0   0   0\\n    0   0   0   0   0   0   0   0   0   0]\\n [  0   0   0   0   0   0   0   0   0   0 116 125 171 255 255 150  93   0\\n    0   0   0   0   0   0   0   0   0   0]\\n [  0   0   0   0   0   0   0   0   0 169 253 253 253 253 253 253 218  30\\n    0   0   0   0   0   0   0   0   0   0]\\n [  0   0   0   0   0   0   0   0 169 253 253 253 213 142 176 253 253 122\\n    0   0   0   0   0   0   0   0   0   0]\\n [  0   0   0   0   0   0   0  52 250 253 210  32  12   0   6 206 253 140\\n    0   0   0   0   0   0   0   0   0   0]\\n [  0   0   0   0   0   0   0  77 251 210  25   0   0   0 122 248 253  65\\n    0   0   0   0   0   0   0   0   0   0]\\n [  0   0   0   0   0   0   0   0  31  18   0   0   0   0 209 253 253  65\\n    0   0   0   0   0   0   0   0   0   0]\\n [  0   0   0   0   0   0   0   0   0   0   0   0   0 117 247 253 198  10\\n    0   0   0   0   0   0   0   0   0   0]\\n [  0   0   0   0   0   0   0   0   0   0   0   0  76 247 253 231  63   0\\n    0   0   0   0   0   0   0   0   0   0]\\n [  0   0   0   0   0   0   0   0   0   0   0   0 128 253 253 144   0   0\\n    0   0   0   0   0   0   0   0   0   0]\\n [  0   0   0   0   0   0   0   0   0   0   0 176 246 253 159  12   0   0\\n    0   0   0   0   0   0   0   0   0   0]\\n [  0   0   0   0   0   0   0   0   0   0  25 234 253 233  35   0   0   0\\n    0   0   0   0   0   0   0   0   0   0]\\n [  0   0   0   0   0   0   0   0   0   0 198 253 253 141   0   0   0   0\\n    0   0   0   0   0   0   0   0   0   0]\\n [  0   0   0   0   0   0   0   0   0  78 248 253 189  12   0   0   0   0\\n    0   0   0   0   0   0   0   0   0   0]\\n [  0   0   0   0   0   0   0   0  19 200 253 253 141   0   0   0   0   0\\n    0   0   0   0   0   0   0   0   0   0]\\n [  0   0   0   0   0   0   0   0 134 253 253 173  12   0   0   0   0   0\\n    0   0   0   0   0   0   0   0   0   0]\\n [  0   0   0   0   0   0   0   0 248 253 253  25   0   0   0   0   0   0\\n    0   0   0   0   0   0   0   0   0   0]\\n [  0   0   0   0   0   0   0   0 248 253 253  43  20  20  20  20   5   0\\n    5  20  20  37 150 150 150 147  10   0]\\n [  0   0   0   0   0   0   0   0 248 253 253 253 253 253 253 253 168 143\\n  166 253 253 253 253 253 253 253 123   0]\\n [  0   0   0   0   0   0   0   0 174 253 253 253 253 253 253 253 253 253\\n  253 253 249 247 247 169 117 117  57   0]\\n [  0   0   0   0   0   0   0   0   0 118 123 123 123 166 253 253 253 155\\n  123 123  41   0   0   0   0   0   0   0]\\n [  0   0   0   0   0   0   0   0   0   0   0   0   0   0   0   0   0   0\\n    0   0   0   0   0   0   0   0   0   0]\\n [  0   0   0   0   0   0   0   0   0   0   0   0   0   0   0   0   0   0\\n    0   0   0   0   0   0   0   0   0   0]\\n [  0   0   0   0   0   0   0   0   0   0   0   0   0   0   0   0   0   0\\n    0   0   0   0   0   0   0   0   0   0]\\n [  0   0   0   0   0   0   0   0   0   0   0   0   0   0   0   0   0   0\\n    0   0   0   0   0   0   0   0   0   0]\\n [  0   0   0   0   0   0   0   0   0   0   0   0   0   0   0   0   0   0\\n    0   0   0   0   0   0   0   0   0   0]]',\n",
       "         '[[  0   0   0   0   0   0   0   0   0   0   0   0   0   0   0   0   0   0\\n    0   0   0   0   0   0   0   0   0   0]\\n [  0   0   0   0   0   0   0   0   0   0   0   0   0   0   0   0   0   0\\n    0   0   0   0   0   0   0   0   0   0]\\n [  0   0   0   0   0   0   0   0   0   0   0   0   0   0   0   0   0   0\\n    0   0   0   0   0   0   0   0   0   0]\\n [  0   0   0   0   0   0   0   0   0   0   0   0   0   0   0   0   0   0\\n    0   0   0   0   0   0   0   0   0   0]\\n [  0   0   0   0   0   0   0   0   0   0   0   0   0   0   0   0  38 254\\n  109   0   0   0   0   0   0   0   0   0]\\n [  0   0   0   0   0   0   0   0   0   0   0   0   0   0   0   0  87 252\\n   82   0   0   0   0   0   0   0   0   0]\\n [  0   0   0   0   0   0   0   0   0   0   0   0   0   0   0   0 135 241\\n    0   0   0   0   0   0   0   0   0   0]\\n [  0   0   0   0   0   0   0   0   0   0   0   0   0   0   0  45 244 150\\n    0   0   0   0   0   0   0   0   0   0]\\n [  0   0   0   0   0   0   0   0   0   0   0   0   0   0   0  84 254  63\\n    0   0   0   0   0   0   0   0   0   0]\\n [  0   0   0   0   0   0   0   0   0   0   0   0   0   0   0 202 223  11\\n    0   0   0   0   0   0   0   0   0   0]\\n [  0   0   0   0   0   0   0   0   0   0   0   0   0   0  32 254 216   0\\n    0   0   0   0   0   0   0   0   0   0]\\n [  0   0   0   0   0   0   0   0   0   0   0   0   0   0  95 254 195   0\\n    0   0   0   0   0   0   0   0   0   0]\\n [  0   0   0   0   0   0   0   0   0   0   0   0   0   0 140 254  77   0\\n    0   0   0   0   0   0   0   0   0   0]\\n [  0   0   0   0   0   0   0   0   0   0   0   0   0  57 237 205   8   0\\n    0   0   0   0   0   0   0   0   0   0]\\n [  0   0   0   0   0   0   0   0   0   0   0   0   0 124 255 165   0   0\\n    0   0   0   0   0   0   0   0   0   0]\\n [  0   0   0   0   0   0   0   0   0   0   0   0   0 171 254  81   0   0\\n    0   0   0   0   0   0   0   0   0   0]\\n [  0   0   0   0   0   0   0   0   0   0   0   0  24 232 215   0   0   0\\n    0   0   0   0   0   0   0   0   0   0]\\n [  0   0   0   0   0   0   0   0   0   0   0   0 120 254 159   0   0   0\\n    0   0   0   0   0   0   0   0   0   0]\\n [  0   0   0   0   0   0   0   0   0   0   0   0 151 254 142   0   0   0\\n    0   0   0   0   0   0   0   0   0   0]\\n [  0   0   0   0   0   0   0   0   0   0   0   0 228 254  66   0   0   0\\n    0   0   0   0   0   0   0   0   0   0]\\n [  0   0   0   0   0   0   0   0   0   0   0  61 251 254  66   0   0   0\\n    0   0   0   0   0   0   0   0   0   0]\\n [  0   0   0   0   0   0   0   0   0   0   0 141 254 205   3   0   0   0\\n    0   0   0   0   0   0   0   0   0   0]\\n [  0   0   0   0   0   0   0   0   0   0  10 215 254 121   0   0   0   0\\n    0   0   0   0   0   0   0   0   0   0]\\n [  0   0   0   0   0   0   0   0   0   0   5 198 176  10   0   0   0   0\\n    0   0   0   0   0   0   0   0   0   0]\\n [  0   0   0   0   0   0   0   0   0   0   0   0   0   0   0   0   0   0\\n    0   0   0   0   0   0   0   0   0   0]\\n [  0   0   0   0   0   0   0   0   0   0   0   0   0   0   0   0   0   0\\n    0   0   0   0   0   0   0   0   0   0]\\n [  0   0   0   0   0   0   0   0   0   0   0   0   0   0   0   0   0   0\\n    0   0   0   0   0   0   0   0   0   0]\\n [  0   0   0   0   0   0   0   0   0   0   0   0   0   0   0   0   0   0\\n    0   0   0   0   0   0   0   0   0   0]]',\n",
       "         ...,\n",
       "         '[[  0   0   0   0   0   0   0   0   0   0   0   0   0   0   0   0   0   0\\n    0   0   0   0   0   0   0   0   0   0]\\n [  0   0   0   0   0   0   0   0   0   0   0   0   0   0   0   0   0   0\\n    0   0   0   0   0   0   0   0   0   0]\\n [  0   0   0   0   0   0   0   0   0   0   0   0   0   0   0   0   0   0\\n    0   0   0   0   0   0   0   0   0   0]\\n [  0   0   0   0   0   0   0   0   0   0   0   0   0   0   0   0   0   0\\n    0   0   0   0   0   0   0   0   0   0]\\n [  0   0   0   0   0   0   0   0   0   0   0   0   0   0   0   0   0   0\\n    0   0   0   0   0   0   0   0   0   0]\\n [  0   0   0   0   0   0   0   0   0   0   0   0   0   0   0   0   0   0\\n    0   0   0   0   0   0   0   0   0   0]\\n [  0   0   0   0   0   0   0   0   0   0   0  23 217 228  35   0   0   0\\n    0 113 241 146   0   0   0   0   0   0]\\n [  0   0   0   0   0   0   0   0   0   0   2 116 254 218  32   0   0   0\\n   54 238 254  24   0   0   0   0   0   0]\\n [  0   0   0   0   0   0   0   0   0   0 108 254 254  74   0   0   0  46\\n  236 254 198  11   0   0   0   0   0   0]\\n [  0   0   0   0   0   0   0   0   0  31 216 254 250  67   0   0   0 154\\n  254 254 142   0   0   0   0   0   0   0]\\n [  0   0   0   0   0   0   0   0   4 168 254 254 189   0   0   0  62 236\\n  254 254  30   0   0   0   0   0   0   0]\\n [  0   0   0   0   0   0   0   0  25 254 254 248  69   0   0  11 208 254\\n  254 176  11   0   0   0   0   0   0   0]\\n [  0   0   0   0   0   0   0   0  47 254 254 211   0   0  11 101 254 254\\n  254  37   0   0   0   0   0   0   0   0]\\n [  0   0   0   0   0   0   0   0 149 254 254 241 174 174 194 254 254 254\\n  254  80   6   0   0   0   0   0   0   0]\\n [  0   0   0   0   0   0   0   0 123 254 254 254 254 254 254 254 254 254\\n  254 254  30   0   0   0   0   0   0   0]\\n [  0   0   0   0   0   0   0   0  19 230 254 254 254 254 254 254 254 254\\n  254 254  30   0   0   0   0   0   0   0]\\n [  0   0   0   0   0   0   0   0   0  38  80 186 199 254 254 254 254 199\\n  186  80   8   0   0   0   0   0   0   0]\\n [  0   0   0   0   0   0   0   0   0   0   0   0  50 254 254 254 196  11\\n    0   0   0   0   0   0   0   0   0   0]\\n [  0   0   0   0   0   0   0   0   0   0   0  14 176 254 254 254  79   0\\n    0   0   0   0   0   0   0   0   0   0]\\n [  0   0   0   0   0   0   0   0   0   0   0  44 254 254 254 197  10   0\\n    0   0   0   0   0   0   0   0   0   0]\\n [  0   0   0   0   0   0   0   0   0   0  14 182 254 254 254  80   0   0\\n    0   0   0   0   0   0   0   0   0   0]\\n [  0   0   0   0   0   0   0   0   0   0  38 254 254 254 199   8   0   0\\n    0   0   0   0   0   0   0   0   0   0]\\n [  0   0   0   0   0   0   0   0   0   0 150 254 254 254 140   0   0   0\\n    0   0   0   0   0   0   0   0   0   0]\\n [  0   0   0   0   0   0   0   0   0   0 162 254 254 230  38   0   0   0\\n    0   0   0   0   0   0   0   0   0   0]\\n [  0   0   0   0   0   0   0   0   0   0 162 254 254 140   0   0   0   0\\n    0   0   0   0   0   0   0   0   0   0]\\n [  0   0   0   0   0   0   0   0   0   0 102 255 230  38   0   0   0   0\\n    0   0   0   0   0   0   0   0   0   0]\\n [  0   0   0   0   0   0   0   0   0   0   0   0   0   0   0   0   0   0\\n    0   0   0   0   0   0   0   0   0   0]\\n [  0   0   0   0   0   0   0   0   0   0   0   0   0   0   0   0   0   0\\n    0   0   0   0   0   0   0   0   0   0]]',\n",
       "         '[[  0   0   0   0   0   0   0   0   0   0   0   0   0   0   0   0   0   0\\n    0   0   0   0   0   0   0   0   0   0]\\n [  0   0   0   0   0   0   0   0   0   0   0   0   0   0   0   0   0   0\\n    0   0   0   0   0   0   0   0   0   0]\\n [  0   0   0   0   0   0   0   0   0   0   0   0   0   0   0   0   0   0\\n    0   0   0   0   0   0   0   0   0   0]\\n [  0   0   0   0   0   0   0   0   0   0   0   0   0   0   0   0   0   0\\n    0   0   0   0   0   0   0   0   0   0]\\n [  0   0   0   0   0   0   0   0   0   0   0   0   0   0   0   0   0   0\\n    0   0   0   0   0   0   0   0   0   0]\\n [  0   0   0   0   0   0   0   0   0   0   0   0   0   0   0   0   0   0\\n    0   0   0   0   0   0   0   0   0   0]\\n [  0   0   0   0   0   0   0   0   0   0   0   0   0   0   0   0   0   0\\n    0   0   0   0   0   0   0   0   0   0]\\n [  0   0   0   0   0   0   0   0   0   0   0   0   0   0   0   0   0   0\\n    0   0   0   0   0   0   0   0   0   0]\\n [  0   0   0   0   0   0   0   0   0   0   0   0   8  10  78   0   0   0\\n    0   0   0   0  15 104 104 104  69   0]\\n [  0   0   0   0   0   0   0   0   0   0   0 123 238 254 235 159  76 111\\n   76 115 169 169 238 254 254 254 254   0]\\n [  0   0   0   0   0   0   0   0   0   0  71 252 254 254 254 254 254 254\\n  254 254 254 254 254 254 254 248 102   0]\\n [  0   0   0   0   0   0   0   0   0   0  83 254 254 254 254 254 247 236\\n  221 179 235 182 140 110  47  42   0   0]\\n [  0   0   0   0   0   0   0   0   0  39 229 254 254 194 169 124  47   0\\n    0   0   0   0   0   0   0   0   0   0]\\n [  0   0   0   0   0   0   0   0   0  83 254 254 254 248 133  51   0   0\\n    0   0   0   0   0   0   0   0   0   0]\\n [  0   0   0   0   0   0   0   0   0   5 213 254 254 254 254 249  91   0\\n    0   0   0   0   0   0   0   0   0   0]\\n [  0   0   0   0   0   0   0   0   0   0  44 152 201 254 254 254 135   0\\n    0   0   0   0   0   0   0   0   0   0]\\n [  0   0   0   0   0   0   0  25 237 106   0   0   0  32 200 254 255  50\\n    0   0   0   0   0   0   0   0   0   0]\\n [  0   0   0   0   0   0   0 123 251 181   0   0   0  13 156 254 254 126\\n    0   0   0   0   0   0   0   0   0   0]\\n [  0   0   0   0   0   0   0 254 254  56   0   0   0  85 254 254 254   0\\n    0   0   0   0   0   0   0   0   0   0]\\n [  0   0   0   0   0   0   0 198 254 149  54   0   0  60 251 254 254  29\\n    0   0   0   0   0   0   0   0   0   0]\\n [  0   0   0   0   0   0   0  89 248 254 220 107 148 236 253 248 171   7\\n    0   0   0   0   0   0   0   0   0   0]\\n [  0   0   0   0   0   0   0   0 139 249 254 254 254 254 249 173   0   0\\n    0   0   0   0   0   0   0   0   0   0]\\n [  0   0   0   0   0   0   0   0   0  97 194 254 254 254 134   0   0   0\\n    0   0   0   0   0   0   0   0   0   0]\\n [  0   0   0   0   0   0   0   0   0   0   3  97 103  37   1   0   0   0\\n    0   0   0   0   0   0   0   0   0   0]\\n [  0   0   0   0   0   0   0   0   0   0   0   0   0   0   0   0   0   0\\n    0   0   0   0   0   0   0   0   0   0]\\n [  0   0   0   0   0   0   0   0   0   0   0   0   0   0   0   0   0   0\\n    0   0   0   0   0   0   0   0   0   0]\\n [  0   0   0   0   0   0   0   0   0   0   0   0   0   0   0   0   0   0\\n    0   0   0   0   0   0   0   0   0   0]\\n [  0   0   0   0   0   0   0   0   0   0   0   0   0   0   0   0   0   0\\n    0   0   0   0   0   0   0   0   0   0]]',\n",
       "         '[[  0   0   0   0   0   0   0   0   0   0   0   0   0   0   0   0   0   0\\n    0   0   0   0   0   0   0   0   0   0]\\n [  0   0   0   0   0   0   0   0   0   0   0   0   0   0   0   0   0   0\\n    0   0   0   0   0   0   0   0   0   0]\\n [  0   0   0   0   0   0   0   0   0   0   0   0   0   0   0   0   0   8\\n  117 254 220  89   0   0   0   0   0   0]\\n [  0   0   0   0   0   0   0   0   0   0   0   0   0   0   0  13  95 212\\n  253 253 253 157   0   0   0   0   0   0]\\n [  0   0   0   0   0   0   0   0   0   0   0   0   0  16  95 209 253 253\\n  253 245 125  18   0   0   0   0   0   0]\\n [  0   0   0   0   0   0   0   0   0   0   0  40  96 206 253 254 253 253\\n  198  64   0   0   0   0   0   0   0   0]\\n [  0   0   0   0   0   0   0   0   0  44 182 240 253 253 253 254 253 198\\n   24   0   0   0   0   0   0   0   0   0]\\n [  0   0   0   0   0   0   0   0   0  15  60  60 168 253 253 254 200  23\\n    0   0   0   0   0   0   0   0   0   0]\\n [  0   0   0   0   0   0   0   0   0   0   0  70 247 253 253 245  21   0\\n    0   0   0   0   0   0   0   0   0   0]\\n [  0   0   0   0   0   0   0   0   0   0  75 207 253 253 207  92   0   0\\n    0   0   0   0   0   0   0   0   0   0]\\n [  0   0   0   0   0   0   0   0   0  79 219 253 253 253 138   0   0   0\\n    0   0   0   0   0   0   0   0   0   0]\\n [  0   0   0   0   0   0   0   0 105 250 253 253 253  34   1   0   0   0\\n    0   0   0   0   0   0   0   0   0   0]\\n [  0   0   0   0   0   0   0  95 254 254 254 254  94   0   0   0   0   0\\n    3  13  13  13   8   0   0   0   0   0]\\n [  0   0   0   0   0   0   0 107 253 253 253 204  15   0   0   0   0  21\\n  166 253 253 253 212  25   0   0   0   0]\\n [  0   0   0   0   0   0  33 217 253 253 132  64   0   0  18  43 157 171\\n  253 253 253 253 253 160   2   0   0   0]\\n [  0   0   0   0   0   3 166 253 253 242  49  17  49 158 210 254 253 253\\n  253 253 253 253 253 253  11   0   0   0]\\n [  0   0   0   0   0  10 227 253 253 207  15 172 253 253 253 254 247 201\\n  253 210 210 253 253 175   4   0   0   0]\\n [  0   0   0   0   0  10 228 253 253 224  87 242 253 253 184  60  54   9\\n   60  35 182 253 253  52   0   0   0   0]\\n [  0   0   0   0   0  13 253 253 253 253 231 253 253 253  93  86  86  86\\n  109 217 253 253 134   5   0   0   0   0]\\n [  0   0   0   0   0   2 115 253 253 253 253 253 253 253 253 254 253 253\\n  253 253 253 134   5   0   0   0   0   0]\\n [  0   0   0   0   0   0   3 166 253 253 253 253 253 253 253 254 253 253\\n  253 175  52   5   0   0   0   0   0   0]\\n [  0   0   0   0   0   0   0   7  35 132 225 253 253 253 195 132 132 132\\n  110   4   0   0   0   0   0   0   0   0]\\n [  0   0   0   0   0   0   0   0   0   0   0   0   0   0   0   0   0   0\\n    0   0   0   0   0   0   0   0   0   0]\\n [  0   0   0   0   0   0   0   0   0   0   0   0   0   0   0   0   0   0\\n    0   0   0   0   0   0   0   0   0   0]\\n [  0   0   0   0   0   0   0   0   0   0   0   0   0   0   0   0   0   0\\n    0   0   0   0   0   0   0   0   0   0]\\n [  0   0   0   0   0   0   0   0   0   0   0   0   0   0   0   0   0   0\\n    0   0   0   0   0   0   0   0   0   0]\\n [  0   0   0   0   0   0   0   0   0   0   0   0   0   0   0   0   0   0\\n    0   0   0   0   0   0   0   0   0   0]\\n [  0   0   0   0   0   0   0   0   0   0   0   0   0   0   0   0   0   0\\n    0   0   0   0   0   0   0   0   0   0]]'],\n",
       "        dtype=object),\n",
       "  array([7, 2, 1, ..., 4, 5, 6], dtype=int64)))"
      ]
     },
     "execution_count": 44,
     "metadata": {},
     "output_type": "execute_result"
    }
   ],
   "source": [
    "new_dataset"
   ]
  }
 ],
 "metadata": {
  "kernelspec": {
   "display_name": "Python 3 (ipykernel)",
   "language": "python",
   "name": "python3"
  },
  "language_info": {
   "codemirror_mode": {
    "name": "ipython",
    "version": 3
   },
   "file_extension": ".py",
   "mimetype": "text/x-python",
   "name": "python",
   "nbconvert_exporter": "python",
   "pygments_lexer": "ipython3",
   "version": "3.9.7"
  }
 },
 "nbformat": 4,
 "nbformat_minor": 5
}
