{
 "cells": [
  {
   "cell_type": "code",
   "execution_count": 30,
   "id": "c1c0edd7",
   "metadata": {},
   "outputs": [
    {
     "name": "stdout",
     "output_type": "stream",
     "text": [
      "{'Monday': 53, 'Tuesday': 52, 'Wednesday': 52, 'Thursday': 52, 'Friday': 52, 'Saturday': 52, 'Sunday': 52}\n"
     ]
    }
   ],
   "source": [
    "import datetime\n",
    "import calendar\n",
    "\n",
    "def day_count(year):\n",
    "    st = '0101'\n",
    "    en = '3112'\n",
    "    s  = datetime.datetime.strptime(st+year, '%d%m%Y')\n",
    "    e  = datetime.datetime.strptime(en+year, '%d%m%Y')\n",
    "    week ={}\n",
    "    for i in range((e-s).days):\n",
    "        day       = calendar.day_name[(s + datetime.timedelta(days=i+1)).weekday()]\n",
    "        week[day] = week[day] + 1 if day in week else 1\n",
    "    return week\n",
    "\n",
    "\n",
    "print(day_count('2012'))"
   ]
  },
  {
   "cell_type": "code",
   "execution_count": null,
   "id": "7b0afbc8",
   "metadata": {},
   "outputs": [],
   "source": []
  }
 ],
 "metadata": {
  "kernelspec": {
   "display_name": "Python 3 (ipykernel)",
   "language": "python",
   "name": "python3"
  },
  "language_info": {
   "codemirror_mode": {
    "name": "ipython",
    "version": 3
   },
   "file_extension": ".py",
   "mimetype": "text/x-python",
   "name": "python",
   "nbconvert_exporter": "python",
   "pygments_lexer": "ipython3",
   "version": "3.10.9"
  }
 },
 "nbformat": 4,
 "nbformat_minor": 5
}
